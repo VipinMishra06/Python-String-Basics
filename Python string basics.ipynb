{
 "cells": [
  {
   "cell_type": "code",
   "execution_count": 1,
   "id": "4cf6bed5",
   "metadata": {},
   "outputs": [],
   "source": [
    "a=\"vipin\""
   ]
  },
  {
   "cell_type": "code",
   "execution_count": 2,
   "id": "5aaaa8c2",
   "metadata": {},
   "outputs": [
    {
     "data": {
      "text/plain": [
       "'p'"
      ]
     },
     "execution_count": 2,
     "metadata": {},
     "output_type": "execute_result"
    }
   ],
   "source": [
    "a[2]"
   ]
  },
  {
   "cell_type": "code",
   "execution_count": 3,
   "id": "887644f5",
   "metadata": {},
   "outputs": [
    {
     "data": {
      "text/plain": [
       "'n'"
      ]
     },
     "execution_count": 3,
     "metadata": {},
     "output_type": "execute_result"
    }
   ],
   "source": [
    "a[4]"
   ]
  },
  {
   "cell_type": "code",
   "execution_count": 4,
   "id": "0e25d4b9",
   "metadata": {},
   "outputs": [
    {
     "data": {
      "text/plain": [
       "'p'"
      ]
     },
     "execution_count": 4,
     "metadata": {},
     "output_type": "execute_result"
    }
   ],
   "source": [
    "a[-3]"
   ]
  },
  {
   "cell_type": "code",
   "execution_count": 8,
   "id": "54141028",
   "metadata": {},
   "outputs": [
    {
     "data": {
      "text/plain": [
       "\"this is my very first class of programming's\""
      ]
     },
     "execution_count": 8,
     "metadata": {},
     "output_type": "execute_result"
    }
   ],
   "source": [
    "\"this is my very first class of programming's\""
   ]
  },
  {
   "cell_type": "code",
   "execution_count": 9,
   "id": "313532f2",
   "metadata": {},
   "outputs": [],
   "source": [
    "q=\"this is my very first class of programming's\""
   ]
  },
  {
   "cell_type": "code",
   "execution_count": 10,
   "id": "88d49198",
   "metadata": {},
   "outputs": [
    {
     "data": {
      "text/plain": [
       "str"
      ]
     },
     "execution_count": 10,
     "metadata": {},
     "output_type": "execute_result"
    }
   ],
   "source": [
    "type(q)"
   ]
  },
  {
   "cell_type": "code",
   "execution_count": 11,
   "id": "d867de45",
   "metadata": {},
   "outputs": [
    {
     "data": {
      "text/plain": [
       "'s'"
      ]
     },
     "execution_count": 11,
     "metadata": {},
     "output_type": "execute_result"
    }
   ],
   "source": [
    "q[3]"
   ]
  },
  {
   "cell_type": "code",
   "execution_count": 12,
   "id": "31491ba9",
   "metadata": {},
   "outputs": [
    {
     "data": {
      "text/plain": [
       "'m'"
      ]
     },
     "execution_count": 12,
     "metadata": {},
     "output_type": "execute_result"
    }
   ],
   "source": [
    "q[8]"
   ]
  },
  {
   "cell_type": "code",
   "execution_count": 13,
   "id": "eb320c9d",
   "metadata": {},
   "outputs": [
    {
     "data": {
      "text/plain": [
       "'s'"
      ]
     },
     "execution_count": 13,
     "metadata": {},
     "output_type": "execute_result"
    }
   ],
   "source": [
    "q[-1]"
   ]
  },
  {
   "cell_type": "code",
   "execution_count": 14,
   "id": "499a687e",
   "metadata": {},
   "outputs": [
    {
     "data": {
      "text/plain": [
       "'m'"
      ]
     },
     "execution_count": 14,
     "metadata": {},
     "output_type": "execute_result"
    }
   ],
   "source": [
    "q[-6]"
   ]
  },
  {
   "cell_type": "code",
   "execution_count": 15,
   "id": "f6dbbc32",
   "metadata": {},
   "outputs": [
    {
     "data": {
      "text/plain": [
       "'is is'"
      ]
     },
     "execution_count": 15,
     "metadata": {},
     "output_type": "execute_result"
    }
   ],
   "source": [
    "q[2:7]"
   ]
  },
  {
   "cell_type": "code",
   "execution_count": 16,
   "id": "7b501e7e",
   "metadata": {},
   "outputs": [
    {
     "data": {
      "text/plain": [
       "\"s is my very first class of programming's\""
      ]
     },
     "execution_count": 16,
     "metadata": {},
     "output_type": "execute_result"
    }
   ],
   "source": [
    "q[3:56]"
   ]
  },
  {
   "cell_type": "code",
   "execution_count": 21,
   "id": "7a609740",
   "metadata": {},
   "outputs": [
    {
     "data": {
      "text/plain": [
       "'hsi yvr is ls f'"
      ]
     },
     "execution_count": 21,
     "metadata": {},
     "output_type": "execute_result"
    }
   ],
   "source": [
    "q[1:30:2]"
   ]
  },
  {
   "cell_type": "markdown",
   "id": "2d86fc89",
   "metadata": {},
   "source": [
    "q=\" vipin\"\n",
    "q[0:6:2}"
   ]
  },
  {
   "cell_type": "code",
   "execution_count": 22,
   "id": "150adb6e",
   "metadata": {},
   "outputs": [
    {
     "data": {
      "text/plain": [
       "' ii'"
      ]
     },
     "execution_count": 22,
     "metadata": {},
     "output_type": "execute_result"
    }
   ],
   "source": [
    "q=\" vipin\"\n",
    "q[0:6:2]"
   ]
  },
  {
   "cell_type": "code",
   "execution_count": 23,
   "id": "9697a0af",
   "metadata": {},
   "outputs": [],
   "source": [
    "w=\"kuttimani\""
   ]
  },
  {
   "cell_type": "code",
   "execution_count": 24,
   "id": "fe319cfa",
   "metadata": {},
   "outputs": [
    {
     "data": {
      "text/plain": [
       "''"
      ]
     },
     "execution_count": 24,
     "metadata": {},
     "output_type": "execute_result"
    }
   ],
   "source": [
    "w[0:8:-1]"
   ]
  },
  {
   "cell_type": "code",
   "execution_count": 25,
   "id": "5673174c",
   "metadata": {},
   "outputs": [
    {
     "data": {
      "text/plain": [
       "'inamittu'"
      ]
     },
     "execution_count": 25,
     "metadata": {},
     "output_type": "execute_result"
    }
   ],
   "source": [
    "w[8:0:-1]"
   ]
  },
  {
   "cell_type": "code",
   "execution_count": 26,
   "id": "cbe1e99d",
   "metadata": {},
   "outputs": [
    {
     "data": {
      "text/plain": [
       "'iait'"
      ]
     },
     "execution_count": 26,
     "metadata": {},
     "output_type": "execute_result"
    }
   ],
   "source": [
    "w[9:0:-2]"
   ]
  },
  {
   "cell_type": "code",
   "execution_count": 27,
   "id": "47b580de",
   "metadata": {},
   "outputs": [
    {
     "data": {
      "text/plain": [
       "'kuttimani'"
      ]
     },
     "execution_count": 27,
     "metadata": {},
     "output_type": "execute_result"
    }
   ],
   "source": [
    "w"
   ]
  },
  {
   "cell_type": "code",
   "execution_count": 28,
   "id": "3944023b",
   "metadata": {},
   "outputs": [
    {
     "data": {
      "text/plain": [
       "'n'"
      ]
     },
     "execution_count": 28,
     "metadata": {},
     "output_type": "execute_result"
    }
   ],
   "source": [
    "w[-2]"
   ]
  },
  {
   "cell_type": "code",
   "execution_count": 29,
   "id": "c26225b9",
   "metadata": {},
   "outputs": [
    {
     "data": {
      "text/plain": [
       "'kuttim'"
      ]
     },
     "execution_count": 29,
     "metadata": {},
     "output_type": "execute_result"
    }
   ],
   "source": [
    "w[:-3]"
   ]
  },
  {
   "cell_type": "code",
   "execution_count": 30,
   "id": "68db37b6",
   "metadata": {},
   "outputs": [
    {
     "data": {
      "text/plain": [
       "'timani'"
      ]
     },
     "execution_count": 30,
     "metadata": {},
     "output_type": "execute_result"
    }
   ],
   "source": [
    "w[3:]"
   ]
  },
  {
   "cell_type": "code",
   "execution_count": 32,
   "id": "d1a71784",
   "metadata": {},
   "outputs": [
    {
     "data": {
      "text/plain": [
       "'ani'"
      ]
     },
     "execution_count": 32,
     "metadata": {},
     "output_type": "execute_result"
    }
   ],
   "source": [
    "w[-3:]"
   ]
  },
  {
   "cell_type": "code",
   "execution_count": 33,
   "id": "5f64a9c1",
   "metadata": {},
   "outputs": [
    {
     "data": {
      "text/plain": [
       "'imt'"
      ]
     },
     "execution_count": 33,
     "metadata": {},
     "output_type": "execute_result"
    }
   ],
   "source": [
    "w[::-3]"
   ]
  },
  {
   "cell_type": "code",
   "execution_count": 34,
   "id": "74bc24ab",
   "metadata": {},
   "outputs": [
    {
     "data": {
      "text/plain": [
       "'inamittuk'"
      ]
     },
     "execution_count": 34,
     "metadata": {},
     "output_type": "execute_result"
    }
   ],
   "source": [
    "w[::-1]"
   ]
  },
  {
   "cell_type": "code",
   "execution_count": 35,
   "id": "30fbfc48",
   "metadata": {},
   "outputs": [
    {
     "data": {
      "text/plain": [
       "'nipiv '"
      ]
     },
     "execution_count": 35,
     "metadata": {},
     "output_type": "execute_result"
    }
   ],
   "source": [
    "q[::-1]"
   ]
  },
  {
   "cell_type": "code",
   "execution_count": 37,
   "id": "2caee339",
   "metadata": {},
   "outputs": [
    {
     "data": {
      "text/plain": [
       "'mittu'"
      ]
     },
     "execution_count": 37,
     "metadata": {},
     "output_type": "execute_result"
    }
   ],
   "source": [
    "w[5:0:-1]"
   ]
  },
  {
   "cell_type": "code",
   "execution_count": 38,
   "id": "74675173",
   "metadata": {},
   "outputs": [
    {
     "data": {
      "text/plain": [
       "''"
      ]
     },
     "execution_count": 38,
     "metadata": {},
     "output_type": "execute_result"
    }
   ],
   "source": [
    "w[5:0:1]"
   ]
  },
  {
   "cell_type": "code",
   "execution_count": 39,
   "id": "1fa4e4e6",
   "metadata": {},
   "outputs": [
    {
     "ename": "TypeError",
     "evalue": "can only concatenate str (not \"int\") to str",
     "output_type": "error",
     "traceback": [
      "\u001b[1;31m---------------------------------------------------------------------------\u001b[0m",
      "\u001b[1;31mTypeError\u001b[0m                                 Traceback (most recent call last)",
      "Input \u001b[1;32mIn [39]\u001b[0m, in \u001b[0;36m<cell line: 1>\u001b[1;34m()\u001b[0m\n\u001b[1;32m----> 1\u001b[0m \u001b[43mw\u001b[49m\u001b[38;5;241;43m+\u001b[39;49m\u001b[38;5;241;43m1\u001b[39;49m\n",
      "\u001b[1;31mTypeError\u001b[0m: can only concatenate str (not \"int\") to str"
     ]
    }
   ],
   "source": [
    "w+1"
   ]
  },
  {
   "cell_type": "code",
   "execution_count": 40,
   "id": "1c8ba37a",
   "metadata": {},
   "outputs": [
    {
     "data": {
      "text/plain": [
       "'kuttimani1'"
      ]
     },
     "execution_count": 40,
     "metadata": {},
     "output_type": "execute_result"
    }
   ],
   "source": [
    "w+\"1\""
   ]
  },
  {
   "cell_type": "code",
   "execution_count": 41,
   "id": "8d4bb46a",
   "metadata": {},
   "outputs": [
    {
     "data": {
      "text/plain": [
       "'kuttimani1'"
      ]
     },
     "execution_count": 41,
     "metadata": {},
     "output_type": "execute_result"
    }
   ],
   "source": [
    "w+'1'"
   ]
  },
  {
   "cell_type": "code",
   "execution_count": 42,
   "id": "ed2b02fd",
   "metadata": {},
   "outputs": [
    {
     "data": {
      "text/plain": [
       "'kuttimani1'"
      ]
     },
     "execution_count": 42,
     "metadata": {},
     "output_type": "execute_result"
    }
   ],
   "source": [
    "w+str(1)"
   ]
  },
  {
   "cell_type": "code",
   "execution_count": 43,
   "id": "4b6330f7",
   "metadata": {},
   "outputs": [
    {
     "data": {
      "text/plain": [
       "'vipinvipin'"
      ]
     },
     "execution_count": 43,
     "metadata": {},
     "output_type": "execute_result"
    }
   ],
   "source": [
    "'vipin'+'vipin'"
   ]
  },
  {
   "cell_type": "code",
   "execution_count": 44,
   "id": "31963d3b",
   "metadata": {},
   "outputs": [
    {
     "data": {
      "text/plain": [
       "9"
      ]
     },
     "execution_count": 44,
     "metadata": {},
     "output_type": "execute_result"
    }
   ],
   "source": [
    "len(w)"
   ]
  },
  {
   "cell_type": "code",
   "execution_count": 45,
   "id": "462ef4cc",
   "metadata": {},
   "outputs": [
    {
     "ename": "TypeError",
     "evalue": "can't multiply sequence by non-int of type 'str'",
     "output_type": "error",
     "traceback": [
      "\u001b[1;31m---------------------------------------------------------------------------\u001b[0m",
      "\u001b[1;31mTypeError\u001b[0m                                 Traceback (most recent call last)",
      "Input \u001b[1;32mIn [45]\u001b[0m, in \u001b[0;36m<cell line: 1>\u001b[1;34m()\u001b[0m\n\u001b[1;32m----> 1\u001b[0m \u001b[43mw\u001b[49m\u001b[38;5;241;43m*\u001b[39;49m\u001b[43mw\u001b[49m\n",
      "\u001b[1;31mTypeError\u001b[0m: can't multiply sequence by non-int of type 'str'"
     ]
    }
   ],
   "source": [
    "w*w"
   ]
  },
  {
   "cell_type": "code",
   "execution_count": 46,
   "id": "de1fb322",
   "metadata": {},
   "outputs": [
    {
     "data": {
      "text/plain": [
       "'kuttimanikuttimani'"
      ]
     },
     "execution_count": 46,
     "metadata": {},
     "output_type": "execute_result"
    }
   ],
   "source": [
    "w*2"
   ]
  },
  {
   "cell_type": "code",
   "execution_count": 49,
   "id": "78f58bde",
   "metadata": {},
   "outputs": [
    {
     "ename": "NameError",
     "evalue": "name 'm' is not defined",
     "output_type": "error",
     "traceback": [
      "\u001b[1;31m---------------------------------------------------------------------------\u001b[0m",
      "\u001b[1;31mNameError\u001b[0m                                 Traceback (most recent call last)",
      "Input \u001b[1;32mIn [49]\u001b[0m, in \u001b[0;36m<cell line: 1>\u001b[1;34m()\u001b[0m\n\u001b[1;32m----> 1\u001b[0m w\u001b[38;5;241m.\u001b[39mcount(\u001b[43mm\u001b[49m)\n",
      "\u001b[1;31mNameError\u001b[0m: name 'm' is not defined"
     ]
    }
   ],
   "source": [
    "w."
   ]
  },
  {
   "cell_type": "code",
   "execution_count": 50,
   "id": "92cbc14f",
   "metadata": {},
   "outputs": [
    {
     "data": {
      "text/plain": [
       "'kuttimani'"
      ]
     },
     "execution_count": 50,
     "metadata": {},
     "output_type": "execute_result"
    }
   ],
   "source": [
    "w"
   ]
  },
  {
   "cell_type": "code",
   "execution_count": 58,
   "id": "ff19559b",
   "metadata": {},
   "outputs": [
    {
     "data": {
      "text/plain": [
       "2"
      ]
     },
     "execution_count": 58,
     "metadata": {},
     "output_type": "execute_result"
    }
   ],
   "source": [
    "w.count(\"t\")"
   ]
  },
  {
   "cell_type": "code",
   "execution_count": 54,
   "id": "ea248f4e",
   "metadata": {},
   "outputs": [],
   "source": [
    "s='kuttimani'"
   ]
  },
  {
   "cell_type": "code",
   "execution_count": 57,
   "id": "06d1d572",
   "metadata": {},
   "outputs": [
    {
     "data": {
      "text/plain": [
       "2"
      ]
     },
     "execution_count": 57,
     "metadata": {},
     "output_type": "execute_result"
    }
   ],
   "source": [
    "s.count('t')"
   ]
  },
  {
   "cell_type": "code",
   "execution_count": 60,
   "id": "bf28f231",
   "metadata": {},
   "outputs": [
    {
     "data": {
      "text/plain": [
       "['kutt', 'man', '']"
      ]
     },
     "execution_count": 60,
     "metadata": {},
     "output_type": "execute_result"
    }
   ],
   "source": [
    "s.split(\"i\")"
   ]
  },
  {
   "cell_type": "code",
   "execution_count": 69,
   "id": "24e2cd9d",
   "metadata": {},
   "outputs": [],
   "source": [
    "h= \"\"\"Random-access memory (RAM; /ræm/) is a form of computer memory that can be read and changed in any order, typically used to store working data and machine code. A random-access memory device allows data items to be read or written in almost the same amount of time irrespective of the physical location of data inside the memory, in contrast with other direct-access data storage media (such as hard disks, CD-RWs, DVD-RWs and the older magnetic tapes and drum memory), where the time required to read and write data items varies significantly depending on their physical locations on the recording medium, due to mechanical limitations such as media rotation speeds and arm movement\"\"\""
   ]
  },
  {
   "cell_type": "code",
   "execution_count": 73,
   "id": "d4526c70",
   "metadata": {},
   "outputs": [
    {
     "data": {
      "text/plain": [
       "1"
      ]
     },
     "execution_count": 73,
     "metadata": {},
     "output_type": "execute_result"
    }
   ],
   "source": [
    "len(\"h\")"
   ]
  },
  {
   "cell_type": "code",
   "execution_count": 76,
   "id": "afc5e1ae",
   "metadata": {},
   "outputs": [
    {
     "data": {
      "text/plain": [
       "['Random-access',\n",
       " 'memory',\n",
       " '(RAM;',\n",
       " '/ræm/)',\n",
       " 'is',\n",
       " 'a',\n",
       " 'form',\n",
       " 'of',\n",
       " 'computer',\n",
       " 'memory',\n",
       " 'that',\n",
       " 'can',\n",
       " 'be',\n",
       " 'read',\n",
       " 'and',\n",
       " 'changed',\n",
       " 'in',\n",
       " 'any',\n",
       " 'order,',\n",
       " 'typically',\n",
       " 'used',\n",
       " 'to',\n",
       " 'store',\n",
       " 'working',\n",
       " 'data',\n",
       " 'and',\n",
       " 'machine',\n",
       " 'code.',\n",
       " 'A',\n",
       " 'random-access',\n",
       " 'memory',\n",
       " 'device',\n",
       " 'allows',\n",
       " 'data',\n",
       " 'items',\n",
       " 'to',\n",
       " 'be',\n",
       " 'read',\n",
       " 'or',\n",
       " 'written',\n",
       " 'in',\n",
       " 'almost',\n",
       " 'the',\n",
       " 'same',\n",
       " 'amount',\n",
       " 'of',\n",
       " 'time',\n",
       " 'irrespective',\n",
       " 'of',\n",
       " 'the',\n",
       " 'physical',\n",
       " 'location',\n",
       " 'of',\n",
       " 'data',\n",
       " 'inside',\n",
       " 'the',\n",
       " 'memory,',\n",
       " 'in',\n",
       " 'contrast',\n",
       " 'with',\n",
       " 'other',\n",
       " 'direct-access',\n",
       " 'data',\n",
       " 'storage',\n",
       " 'media',\n",
       " '(such',\n",
       " 'as',\n",
       " 'hard',\n",
       " 'disks,',\n",
       " 'CD-RWs,',\n",
       " 'DVD-RWs',\n",
       " 'and',\n",
       " 'the',\n",
       " 'older',\n",
       " 'magnetic',\n",
       " 'tapes',\n",
       " 'and',\n",
       " 'drum',\n",
       " 'memory),',\n",
       " 'where',\n",
       " 'the',\n",
       " 'time',\n",
       " 'required',\n",
       " 'to',\n",
       " 'read',\n",
       " 'and',\n",
       " 'write',\n",
       " 'data',\n",
       " 'items',\n",
       " 'varies',\n",
       " 'significantly',\n",
       " 'depending',\n",
       " 'on',\n",
       " 'their',\n",
       " 'physical',\n",
       " 'locations',\n",
       " 'on',\n",
       " 'the',\n",
       " 'recording',\n",
       " 'medium,',\n",
       " 'due',\n",
       " 'to',\n",
       " 'mechanical',\n",
       " 'limitations',\n",
       " 'such',\n",
       " 'as',\n",
       " 'media',\n",
       " 'rotation',\n",
       " 'speeds',\n",
       " 'and',\n",
       " 'arm',\n",
       " 'movement']"
      ]
     },
     "execution_count": 76,
     "metadata": {},
     "output_type": "execute_result"
    }
   ],
   "source": [
    "h.split(' ')"
   ]
  },
  {
   "cell_type": "code",
   "execution_count": 80,
   "id": "ed9bec02",
   "metadata": {},
   "outputs": [
    {
     "data": {
      "text/plain": [
       "8"
      ]
     },
     "execution_count": 80,
     "metadata": {},
     "output_type": "execute_result"
    }
   ],
   "source": [
    "h.count(\"the\")"
   ]
  },
  {
   "cell_type": "code",
   "execution_count": 81,
   "id": "c6195289",
   "metadata": {},
   "outputs": [
    {
     "data": {
      "text/plain": [
       "'RANDOM-ACCESS MEMORY (RAM; /RÆM/) IS A FORM OF COMPUTER MEMORY THAT CAN BE READ AND CHANGED IN ANY ORDER, TYPICALLY USED TO STORE WORKING DATA AND MACHINE CODE. A RANDOM-ACCESS MEMORY DEVICE ALLOWS DATA ITEMS TO BE READ OR WRITTEN IN ALMOST THE SAME AMOUNT OF TIME IRRESPECTIVE OF THE PHYSICAL LOCATION OF DATA INSIDE THE MEMORY, IN CONTRAST WITH OTHER DIRECT-ACCESS DATA STORAGE MEDIA (SUCH AS HARD DISKS, CD-RWS, DVD-RWS AND THE OLDER MAGNETIC TAPES AND DRUM MEMORY), WHERE THE TIME REQUIRED TO READ AND WRITE DATA ITEMS VARIES SIGNIFICANTLY DEPENDING ON THEIR PHYSICAL LOCATIONS ON THE RECORDING MEDIUM, DUE TO MECHANICAL LIMITATIONS SUCH AS MEDIA ROTATION SPEEDS AND ARM MOVEMENT'"
      ]
     },
     "execution_count": 81,
     "metadata": {},
     "output_type": "execute_result"
    }
   ],
   "source": [
    "h.upper()"
   ]
  },
  {
   "cell_type": "code",
   "execution_count": 82,
   "id": "4d714d29",
   "metadata": {},
   "outputs": [
    {
     "data": {
      "text/plain": [
       "'random-access memory (ram; /ræm/) is a form of computer memory that can be read and changed in any order, typically used to store working data and machine code. a random-access memory device allows data items to be read or written in almost the same amount of time irrespective of the physical location of data inside the memory, in contrast with other direct-access data storage media (such as hard disks, cd-rws, dvd-rws and the older magnetic tapes and drum memory), where the time required to read and write data items varies significantly depending on their physical locations on the recording medium, due to mechanical limitations such as media rotation speeds and arm movement'"
      ]
     },
     "execution_count": 82,
     "metadata": {},
     "output_type": "execute_result"
    }
   ],
   "source": [
    "h.lower()"
   ]
  },
  {
   "cell_type": "code",
   "execution_count": 1,
   "id": "6d9cc2df",
   "metadata": {},
   "outputs": [],
   "source": [
    "w='RANDOM-ACCESS MEMORY (RAM; /RÆM/) IS A FORM OF COMPUTER MEMORY THAT CAN BE READ AND CHANGED IN ANY ORDER, TYPICALLY USED TO STORE WORKING DATA AND MACHINE CODE. A RANDOM-ACCESS MEMORY DEVICE ALLOWS DATA ITEMS TO BE READ OR WRITTEN IN ALMOST THE SAME AMOUNT OF TIME IRRESPECTIVE OF THE PHYSICAL LOCATION OF DATA INSIDE THE MEMORY, IN CONTRAST WITH OTHER DIRECT-ACCESS DATA STORAGE MEDIA (SUCH AS HARD DISKS, CD-RWS, DVD-RWS AND THE OLDER MAGNETIC TAPES AND DRUM MEMORY), WHERE THE TIME REQUIRED TO READ AND WRITE DATA ITEMS VARIES SIGNIFICANTLY DEPENDING ON THEIR PHYSICAL LOCATIONS ON THE RECORDING MEDIUM, DUE TO MECHANICAL LIMITATIONS SUCH AS MEDIA ROTATION SPEEDS AND ARM MOVEMENT'"
   ]
  },
  {
   "cell_type": "code",
   "execution_count": 2,
   "id": "38eb4603",
   "metadata": {},
   "outputs": [
    {
     "data": {
      "text/plain": [
       "'RANDOM-ACCESS MEMORY (RAM; /RÆM/) IS A FORM OF COMPUTER MEMORY THAT CAN BE READ AND CHANGED IN ANY ORDER, TYPICALLY USED TO STORE WORKING DATA AND MACHINE CODE. A RANDOM-ACCESS MEMORY DEVICE ALLOWS DATA ITEMS TO BE READ OR WRITTEN IN ALMOST THE SAME AMOUNT OF TIME IRRESPECTIVE OF THE PHYSICAL LOCATION OF DATA INSIDE THE MEMORY, IN CONTRAST WITH OTHER DIRECT-ACCESS DATA STORAGE MEDIA (SUCH AS HARD DISKS, CD-RWS, DVD-RWS AND THE OLDER MAGNETIC TAPES AND DRUM MEMORY), WHERE THE TIME REQUIRED TO READ AND WRITE DATA ITEMS VARIES SIGNIFICANTLY DEPENDING ON THEIR PHYSICAL LOCATIONS ON THE RECORDING MEDIUM, DUE TO MECHANICAL LIMITATIONS SUCH AS MEDIA ROTATION SPEEDS AND ARM MOVEMENT'"
      ]
     },
     "execution_count": 2,
     "metadata": {},
     "output_type": "execute_result"
    }
   ],
   "source": [
    "w"
   ]
  },
  {
   "cell_type": "code",
   "execution_count": 3,
   "id": "05df3809",
   "metadata": {},
   "outputs": [
    {
     "data": {
      "text/plain": [
       "'Vipin Mishra'"
      ]
     },
     "execution_count": 3,
     "metadata": {},
     "output_type": "execute_result"
    }
   ],
   "source": [
    "a=\"vipin mishra\"\n",
    "a.title()"
   ]
  },
  {
   "cell_type": "code",
   "execution_count": 4,
   "id": "dba53b7e",
   "metadata": {},
   "outputs": [
    {
     "data": {
      "text/plain": [
       "'Vipin mishra'"
      ]
     },
     "execution_count": 4,
     "metadata": {},
     "output_type": "execute_result"
    }
   ],
   "source": [
    "a.capitalize()"
   ]
  },
  {
   "cell_type": "code",
   "execution_count": 5,
   "id": "888b32b1",
   "metadata": {},
   "outputs": [
    {
     "data": {
      "text/plain": [
       "'VIPIN MISHRA'"
      ]
     },
     "execution_count": 5,
     "metadata": {},
     "output_type": "execute_result"
    }
   ],
   "source": [
    "a.swapcase()"
   ]
  },
  {
   "cell_type": "code",
   "execution_count": 6,
   "id": "3d6db903",
   "metadata": {},
   "outputs": [
    {
     "data": {
      "text/plain": [
       "'arhsim nipiv'"
      ]
     },
     "execution_count": 6,
     "metadata": {},
     "output_type": "execute_result"
    }
   ],
   "source": [
    "a[::-1]"
   ]
  },
  {
   "cell_type": "code",
   "execution_count": 12,
   "id": "cb487b66",
   "metadata": {},
   "outputs": [
    {
     "data": {
      "text/plain": [
       "'arhsim nipiv'"
      ]
     },
     "execution_count": 12,
     "metadata": {},
     "output_type": "execute_result"
    }
   ],
   "source": [
    "''.join(reversed(a))"
   ]
  },
  {
   "cell_type": "code",
   "execution_count": 21,
   "id": "e914f55d",
   "metadata": {},
   "outputs": [
    {
     "data": {
      "text/plain": [
       "'vipin'"
      ]
     },
     "execution_count": 21,
     "metadata": {},
     "output_type": "execute_result"
    }
   ],
   "source": [
    "a='  vipin  '\n",
    "a.strip()"
   ]
  },
  {
   "cell_type": "code",
   "execution_count": 23,
   "id": "1412b01d",
   "metadata": {},
   "outputs": [
    {
     "data": {
      "text/plain": [
       "'vipin'"
      ]
     },
     "execution_count": 23,
     "metadata": {},
     "output_type": "execute_result"
    }
   ],
   "source": [
    "a.lstrip()"
   ]
  },
  {
   "cell_type": "code",
   "execution_count": 24,
   "id": "a1badd59",
   "metadata": {},
   "outputs": [
    {
     "data": {
      "text/plain": [
       "'  vipin'"
      ]
     },
     "execution_count": 24,
     "metadata": {},
     "output_type": "execute_result"
    }
   ],
   "source": [
    "a.rstrip()"
   ]
  },
  {
   "cell_type": "code",
   "execution_count": 25,
   "id": "2a8e88d9",
   "metadata": {},
   "outputs": [
    {
     "data": {
      "text/plain": [
       "'v  ipi  n'"
      ]
     },
     "execution_count": 25,
     "metadata": {},
     "output_type": "execute_result"
    }
   ],
   "source": [
    "a='v  ipi  n'\n",
    "a.strip()"
   ]
  },
  {
   "cell_type": "code",
   "execution_count": 31,
   "id": "f31696c1",
   "metadata": {},
   "outputs": [
    {
     "data": {
      "text/plain": [
       "'n mishrai mishrap mishrai mishrav'"
      ]
     },
     "execution_count": 31,
     "metadata": {},
     "output_type": "execute_result"
    }
   ],
   "source": [
    "a='vipin'\n",
    "' mishra'.join(reversed(a))"
   ]
  },
  {
   "cell_type": "code",
   "execution_count": 37,
   "id": "91d455ba",
   "metadata": {},
   "outputs": [
    {
     "data": {
      "text/plain": [
       "'##vipin###'"
      ]
     },
     "execution_count": 37,
     "metadata": {},
     "output_type": "execute_result"
    }
   ],
   "source": [
    "a.center(10,'#')"
   ]
  },
  {
   "cell_type": "code",
   "execution_count": 38,
   "id": "e54e304f",
   "metadata": {},
   "outputs": [
    {
     "data": {
      "text/plain": [
       "False"
      ]
     },
     "execution_count": 38,
     "metadata": {},
     "output_type": "execute_result"
    }
   ],
   "source": [
    "a.isupper()"
   ]
  },
  {
   "cell_type": "code",
   "execution_count": 39,
   "id": "70c404c5",
   "metadata": {},
   "outputs": [
    {
     "data": {
      "text/plain": [
       "True"
      ]
     },
     "execution_count": 39,
     "metadata": {},
     "output_type": "execute_result"
    }
   ],
   "source": [
    "a.islower()"
   ]
  },
  {
   "cell_type": "code",
   "execution_count": 40,
   "id": "a005b2d0",
   "metadata": {},
   "outputs": [
    {
     "data": {
      "text/plain": [
       "False"
      ]
     },
     "execution_count": 40,
     "metadata": {},
     "output_type": "execute_result"
    }
   ],
   "source": [
    "a.isspace()"
   ]
  },
  {
   "cell_type": "code",
   "execution_count": 43,
   "id": "6072958f",
   "metadata": {},
   "outputs": [],
   "source": [
    "a=\"    \""
   ]
  },
  {
   "cell_type": "code",
   "execution_count": 44,
   "id": "d859f73d",
   "metadata": {},
   "outputs": [
    {
     "data": {
      "text/plain": [
       "True"
      ]
     },
     "execution_count": 44,
     "metadata": {},
     "output_type": "execute_result"
    }
   ],
   "source": [
    "a.isspace()"
   ]
  },
  {
   "cell_type": "code",
   "execution_count": 45,
   "id": "b435d858",
   "metadata": {},
   "outputs": [
    {
     "data": {
      "text/plain": [
       "False"
      ]
     },
     "execution_count": 45,
     "metadata": {},
     "output_type": "execute_result"
    }
   ],
   "source": [
    "a.isdigit()"
   ]
  },
  {
   "cell_type": "code",
   "execution_count": 49,
   "id": "776b14a5",
   "metadata": {},
   "outputs": [
    {
     "data": {
      "text/plain": [
       "True"
      ]
     },
     "execution_count": 49,
     "metadata": {},
     "output_type": "execute_result"
    }
   ],
   "source": [
    "a='12'\n",
    "a.isdigit()"
   ]
  },
  {
   "cell_type": "code",
   "execution_count": 50,
   "id": "d71f819f",
   "metadata": {},
   "outputs": [],
   "source": [
    "a='dhki134m'"
   ]
  },
  {
   "cell_type": "code",
   "execution_count": 51,
   "id": "d03f1097",
   "metadata": {},
   "outputs": [
    {
     "data": {
      "text/plain": [
       "False"
      ]
     },
     "execution_count": 51,
     "metadata": {},
     "output_type": "execute_result"
    }
   ],
   "source": [
    "a.isdigit()"
   ]
  },
  {
   "cell_type": "code",
   "execution_count": 52,
   "id": "50303077",
   "metadata": {},
   "outputs": [
    {
     "data": {
      "text/plain": [
       "True"
      ]
     },
     "execution_count": 52,
     "metadata": {},
     "output_type": "execute_result"
    }
   ],
   "source": [
    "a.isalnum()"
   ]
  },
  {
   "cell_type": "code",
   "execution_count": 53,
   "id": "b58477d3",
   "metadata": {},
   "outputs": [
    {
     "data": {
      "text/plain": [
       "False"
      ]
     },
     "execution_count": 53,
     "metadata": {},
     "output_type": "execute_result"
    }
   ],
   "source": [
    "a.isalpha()"
   ]
  },
  {
   "cell_type": "code",
   "execution_count": 54,
   "id": "89d7ce93",
   "metadata": {},
   "outputs": [
    {
     "data": {
      "text/plain": [
       "False"
      ]
     },
     "execution_count": 54,
     "metadata": {},
     "output_type": "execute_result"
    }
   ],
   "source": [
    "a.startswith('s')"
   ]
  },
  {
   "cell_type": "code",
   "execution_count": 55,
   "id": "823a6fc1",
   "metadata": {},
   "outputs": [],
   "source": [
    "a='vipin'"
   ]
  },
  {
   "cell_type": "code",
   "execution_count": 56,
   "id": "a9c76d0a",
   "metadata": {},
   "outputs": [
    {
     "data": {
      "text/plain": [
       "True"
      ]
     },
     "execution_count": 56,
     "metadata": {},
     "output_type": "execute_result"
    }
   ],
   "source": [
    "a.startswith('v')"
   ]
  },
  {
   "cell_type": "code",
   "execution_count": 57,
   "id": "d946b553",
   "metadata": {},
   "outputs": [
    {
     "data": {
      "text/plain": [
       "False"
      ]
     },
     "execution_count": 57,
     "metadata": {},
     "output_type": "execute_result"
    }
   ],
   "source": [
    "a.isnumeric()"
   ]
  },
  {
   "cell_type": "code",
   "execution_count": 58,
   "id": "99a12de0",
   "metadata": {},
   "outputs": [
    {
     "data": {
      "text/plain": [
       "True"
      ]
     },
     "execution_count": 58,
     "metadata": {},
     "output_type": "execute_result"
    }
   ],
   "source": [
    "a='12'\n",
    "a.isnumeric()"
   ]
  },
  {
   "cell_type": "code",
   "execution_count": 63,
   "id": "9e73d102",
   "metadata": {},
   "outputs": [
    {
     "data": {
      "text/plain": [
       "True"
      ]
     },
     "execution_count": 63,
     "metadata": {},
     "output_type": "execute_result"
    }
   ],
   "source": [
    "a='12'\n",
    "a.isascii()"
   ]
  },
  {
   "cell_type": "code",
   "execution_count": 71,
   "id": "c6e3fc5a",
   "metadata": {},
   "outputs": [
    {
     "data": {
      "text/plain": [
       "False"
      ]
     },
     "execution_count": 71,
     "metadata": {},
     "output_type": "execute_result"
    }
   ],
   "source": [
    "a=' vipin '\n",
    "a.isspace()"
   ]
  },
  {
   "cell_type": "code",
   "execution_count": 74,
   "id": "c488f72e",
   "metadata": {},
   "outputs": [
    {
     "data": {
      "text/plain": [
       "'@ vipin @@'"
      ]
     },
     "execution_count": 74,
     "metadata": {},
     "output_type": "execute_result"
    }
   ],
   "source": [
    "a.center(10, '@')"
   ]
  },
  {
   "cell_type": "code",
   "execution_count": 75,
   "id": "4d9bb5d3",
   "metadata": {},
   "outputs": [
    {
     "data": {
      "text/plain": [
       "<reversed at 0x178aff52700>"
      ]
     },
     "execution_count": 75,
     "metadata": {},
     "output_type": "execute_result"
    }
   ],
   "source": [
    "reversed(a)"
   ]
  },
  {
   "cell_type": "code",
   "execution_count": 83,
   "id": "1b961391",
   "metadata": {},
   "outputs": [],
   "source": [
    "a='vipin\\tmishra\\t022'"
   ]
  },
  {
   "cell_type": "code",
   "execution_count": 84,
   "id": "5bc1df4f",
   "metadata": {},
   "outputs": [
    {
     "data": {
      "text/plain": [
       "'vipin   mishra  022'"
      ]
     },
     "execution_count": 84,
     "metadata": {},
     "output_type": "execute_result"
    }
   ],
   "source": [
    "a.expandtabs()"
   ]
  },
  {
   "cell_type": "code",
   "execution_count": null,
   "id": "593a7b99",
   "metadata": {},
   "outputs": [],
   "source": []
  }
 ],
 "metadata": {
  "kernelspec": {
   "display_name": "Python 3 (ipykernel)",
   "language": "python",
   "name": "python3"
  },
  "language_info": {
   "codemirror_mode": {
    "name": "ipython",
    "version": 3
   },
   "file_extension": ".py",
   "mimetype": "text/x-python",
   "name": "python",
   "nbconvert_exporter": "python",
   "pygments_lexer": "ipython3",
   "version": "3.9.12"
  }
 },
 "nbformat": 4,
 "nbformat_minor": 5
}
